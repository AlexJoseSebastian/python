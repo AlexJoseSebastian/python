{
 "cells": [
  {
   "cell_type": "markdown",
   "metadata": {},
   "source": [
    "Can create multi logger for different parts of your application"
   ]
  },
  {
   "cell_type": "code",
   "execution_count": 4,
   "metadata": {},
   "outputs": [],
   "source": [
    "import logging\n",
    "## create a logger for module 1\n",
    "\n",
    "logging1=logging.getLogger(\"module1\")\n",
    "logging1.setLevel(logging.DEBUG)\n",
    "\n",
    "## module 2\n",
    "\n",
    "logging2=logging.getLogger(\"module2\")\n",
    "logging2.setLevel(logging.WARNING)\n",
    "\n",
    "## configure logging settings\n",
    "logging.basicConfig(\n",
    "    level=logging.DEBUG,\n",
    "    format='%(asctime)s - %(name)s - %(levelname)s - %(message)s',\n",
    "    datefmt='%Y-%m-%d %H:%M:%S'\n",
    ")"
   ]
  },
  {
   "cell_type": "code",
   "execution_count": 6,
   "metadata": {},
   "outputs": [
    {
     "name": "stderr",
     "output_type": "stream",
     "text": [
      "2025-04-10 11:41:18 - module1 - DEBUG - This is debug message for module1\n",
      "2025-04-10 11:41:18 - module2 - WARNING - Message for warning\n",
      "2025-04-10 11:41:18 - module2 - ERROR - Message for error\n"
     ]
    }
   ],
   "source": [
    "logging1.debug(\"This is debug message for module1\")\n",
    "logging2.warning(\"Message for warning\")\n",
    "logging2.error(\"Message for error\")"
   ]
  }
 ],
 "metadata": {
  "kernelspec": {
   "display_name": "Python 3",
   "language": "python",
   "name": "python3"
  },
  "language_info": {
   "codemirror_mode": {
    "name": "ipython",
    "version": 3
   },
   "file_extension": ".py",
   "mimetype": "text/x-python",
   "name": "python",
   "nbconvert_exporter": "python",
   "pygments_lexer": "ipython3",
   "version": "3.12.0"
  }
 },
 "nbformat": 4,
 "nbformat_minor": 2
}
