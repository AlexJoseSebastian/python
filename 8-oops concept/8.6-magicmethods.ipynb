{
 "cells": [
  {
   "cell_type": "markdown",
   "metadata": {},
   "source": [
    "Magic methods in python also, knon as dunder methods (douuble underscore methods),are special methods that start and end with doube underscores.These methods enable you to define the behaviour of objects for build-in operation, such as arithmetic operations comparisons and more."
   ]
  },
  {
   "cell_type": "code",
   "execution_count": 1,
   "metadata": {},
   "outputs": [
    {
     "data": {
      "text/plain": [
       "'  \\n__init__: Initializes a new instance of a class\\n    \\n__str__: Returns a string representaion of an object.\\n__repr__:return an official string representation of an object.\\n__len__: Returns the size of an object.\\n__getitem__: Gets an item form a container.\\n__setitem__: Sets an item form a container.\\n\\n'"
      ]
     },
     "execution_count": 1,
     "metadata": {},
     "output_type": "execute_result"
    }
   ],
   "source": [
    "### Magic methods\n",
    "'''  \n",
    "__init__: Initializes a new instance of a class\n",
    "    \n",
    "__str__: Returns a string representaion of an object.\n",
    "__repr__:return an official string representation of an object.\n",
    "__len__: Returns the size of an object.\n",
    "__getitem__: Gets an item form a container.\n",
    "__setitem__: Sets an item form a container.\n",
    "\n",
    "'''\n"
   ]
  },
  {
   "cell_type": "code",
   "execution_count": 4,
   "metadata": {},
   "outputs": [
    {
     "name": "stdout",
     "output_type": "stream",
     "text": [
      "Alex,21 year old\n",
      "Person(Alex, 21)\n"
     ]
    }
   ],
   "source": [
    "### Basics Methods\n",
    "\n",
    "class Person:\n",
    "    def __init__(self, name, age):\n",
    "        self.name = name\n",
    "        self.age = age\n",
    "\n",
    "    def __str__(self):\n",
    "        return f\"{self.name},{self.age} year old\"\n",
    "    \n",
    "    def __repr__(self):\n",
    "        return f\"Person({self.name}, {self.age})\"\n",
    "    \n",
    "person = Person(\"Alex\",21)\n",
    "print(person)\n",
    "print(repr(person))"
   ]
  }
 ],
 "metadata": {
  "kernelspec": {
   "display_name": "Python 3",
   "language": "python",
   "name": "python3"
  },
  "language_info": {
   "codemirror_mode": {
    "name": "ipython",
    "version": 3
   },
   "file_extension": ".py",
   "mimetype": "text/x-python",
   "name": "python",
   "nbconvert_exporter": "python",
   "pygments_lexer": "ipython3",
   "version": "3.12.0"
  }
 },
 "nbformat": 4,
 "nbformat_minor": 2
}
