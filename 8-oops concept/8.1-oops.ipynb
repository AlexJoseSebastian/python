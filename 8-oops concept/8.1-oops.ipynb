{
 "cells": [
  {
   "cell_type": "markdown",
   "metadata": {},
   "source": [
    "classes and object\n",
    "\n",
    "\n",
    "\n",
    "object-oriented programming(oop) is a programming paradigm that uses \"objects\" to design applications and computer program. OOP allows for modeling real-world scenarios  using classes and object."
   ]
  },
  {
   "cell_type": "code",
   "execution_count": 1,
   "metadata": {},
   "outputs": [
    {
     "name": "stdout",
     "output_type": "stream",
     "text": [
      "<class '__main__.car'>\n"
     ]
    }
   ],
   "source": [
    "### A class is a blue print for creting object.Attributes,methods\n",
    "\n",
    "class car:\n",
    "    pass\n",
    "audi=car()\n",
    "bmw=car()\n",
    "\n",
    "print(type(audi))"
   ]
  },
  {
   "cell_type": "code",
   "execution_count": 3,
   "metadata": {},
   "outputs": [
    {
     "name": "stdout",
     "output_type": "stream",
     "text": [
      "<__main__.car object at 0x000001AF438280B0>\n",
      "<__main__.car object at 0x000001AF43828560>\n"
     ]
    }
   ],
   "source": [
    "print(audi)\n",
    "print(bmw)"
   ]
  },
  {
   "cell_type": "code",
   "execution_count": 5,
   "metadata": {},
   "outputs": [
    {
     "name": "stdout",
     "output_type": "stream",
     "text": [
      "buddy\n",
      "3\n"
     ]
    }
   ],
   "source": [
    "#### Instancee variable and methods\n",
    "\n",
    "class Dog:\n",
    "    ## constructor\n",
    "    def __init__(self, name, age):\n",
    "        self.name = name\n",
    "        self.age = age\n",
    "\n",
    "## crete object\n",
    "dog1=Dog(\"buddy\",3)\n",
    "print(dog1.name)\n",
    "print(dog1.age)\n"
   ]
  },
  {
   "cell_type": "code",
   "execution_count": 6,
   "metadata": {},
   "outputs": [
    {
     "name": "stdout",
     "output_type": "stream",
     "text": [
      "4\n",
      "Luucky\n"
     ]
    }
   ],
   "source": [
    "dog2=Dog(\"Luucky\",4)\n",
    "print(dog2.age)\n",
    "print(dog2.name)\n"
   ]
  },
  {
   "cell_type": "code",
   "execution_count": 7,
   "metadata": {},
   "outputs": [
    {
     "name": "stdout",
     "output_type": "stream",
     "text": [
      "buddy says woof\n",
      "Lucy says woof\n"
     ]
    }
   ],
   "source": [
    "## Define class with instance methods\n",
    "\n",
    "class Dog:\n",
    "    def __init__(self, name, age):\n",
    "        self.name = name\n",
    "        self.age=age\n",
    "\n",
    "    def bark(self):\n",
    "        print(f\"{self.name} says woof\")\n",
    "\n",
    "\n",
    "dog1= Dog(\"buddy\",2)\n",
    "dog1.bark()  # Output: buddy says woof\n",
    "dog2 = Dog(\"Lucy\",4)\n",
    "dog2.bark()  # Output: Lucy says woof"
   ]
  },
  {
   "cell_type": "code",
   "execution_count": 13,
   "metadata": {},
   "outputs": [
    {
     "name": "stdout",
     "output_type": "stream",
     "text": [
      "1000 is deposited . New balance is 5000\n",
      "500 is withdraw.New Balanc is 4500\n"
     ]
    },
    {
     "data": {
      "text/plain": [
       "4500"
      ]
     },
     "execution_count": 13,
     "metadata": {},
     "output_type": "execute_result"
    }
   ],
   "source": [
    "## Moeliing a Bank Account\n",
    "\n",
    "## Define a class for bank account\n",
    "\n",
    "class BankAccount:\n",
    "    def __init__(self,owner,balance=0):\n",
    "        self.owner=owner\n",
    "        self.balance=balance\n",
    "\n",
    "    def deposite(self,amt):\n",
    "        self.balance+=amt\n",
    "        print(f\"{amt} is deposited . New balance is {self.balance}\")\n",
    "\n",
    "    def withdraw(self,amt):\n",
    "        if amt>self.balance:\n",
    "            print(\"Insufficint funds!\")\n",
    "        else:\n",
    "            self.balance-=amt\n",
    "            print(f\"{amt} is withdraw.New Balanc is {self.balance}\")\n",
    "\n",
    "\n",
    "    def get_balance(self):\n",
    "        return self.balance\n",
    "    \n",
    "account = BankAccount(\"Alex\",4000)\n",
    "account.deposite(1000)\n",
    "account.withdraw(500)\n",
    "account.get_balance()\n"
   ]
  },
  {
   "cell_type": "code",
   "execution_count": null,
   "metadata": {},
   "outputs": [],
   "source": []
  }
 ],
 "metadata": {
  "kernelspec": {
   "display_name": "Python 3",
   "language": "python",
   "name": "python3"
  },
  "language_info": {
   "codemirror_mode": {
    "name": "ipython",
    "version": 3
   },
   "file_extension": ".py",
   "mimetype": "text/x-python",
   "name": "python",
   "nbconvert_exporter": "python",
   "pygments_lexer": "ipython3",
   "version": "3.12.0"
  }
 },
 "nbformat": 4,
 "nbformat_minor": 2
}
